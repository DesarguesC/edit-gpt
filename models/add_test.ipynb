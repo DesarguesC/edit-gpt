{
 "cells": [
  {
   "cell_type": "code",
   "execution_count": 14,
   "id": "ef776f03",
   "metadata": {},
   "outputs": [
    {
     "name": "stdout",
     "output_type": "stream",
     "text": [
      "0\n"
     ]
    }
   ],
   "source": [
    "from transformers import ViltProcessor, ViltForQuestionAnswering\n",
    "from PIL import Image\n",
    "import torch\n",
    "\n",
    "# preload: load the model and processor\n",
    "def preload(model_path, device):\n",
    "    processor = ViltProcessor.from_pretrained(model_path)\n",
    "    model = ViltForQuestionAnswering.from_pretrained(model_path)\n",
    "    return processor, model\n",
    "\n",
    "def How_Many_label(model, image, label):\n",
    "    text = \"How many\" + label + \"are in the image?\"\n",
    "    encoding = processor(image, text, return_tensors=\"pt\")\n",
    "    outputs = model(**encoding)\n",
    "    logits = outputs.logits\n",
    "    idx = logits.argmax(-1).item()\n",
    "    return int(model.config.id2label[idx])\n",
    "\n",
    "def Val(model, label, image_ori, image_edited):\n",
    "    \n",
    "#     return How_Many_label(model, image_edited, label)\n",
    "    return How_Many_label(model, image_edited, label) - How_Many_label(model, image_ori, label)\n",
    "\n",
    "device = \"cuda\" if torch.cuda.is_available() else \"cpu\"\n",
    "# device = \"cpu\"\n",
    "model_path = \"vilt-b32-finetuned-vqa\"\n",
    "processor, model = preload(model_path, device)\n",
    "\n",
    "result = Val(model, \"cat\", image_ori = Image.open(\"cat.png\"), image_edited = Image.open(\"nocat.jpg\"))\n",
    "\n",
    "print(result)"
   ]
  },
  {
   "cell_type": "code",
   "execution_count": null,
   "id": "bbf68194",
   "metadata": {},
   "outputs": [],
   "source": []
  }
 ],
 "metadata": {
  "kernelspec": {
   "display_name": "PyTorch",
   "language": "python",
   "name": "pytorch"
  },
  "language_info": {
   "codemirror_mode": {
    "name": "ipython",
    "version": 3
   },
   "file_extension": ".py",
   "mimetype": "text/x-python",
   "name": "python",
   "nbconvert_exporter": "python",
   "pygments_lexer": "ipython3",
   "version": "3.10.4"
  }
 },
 "nbformat": 4,
 "nbformat_minor": 5
}
