{
 "cells": [
  {
   "cell_type": "code",
   "execution_count": 1,
   "metadata": {},
   "outputs": [
    {
     "name": "stderr",
     "output_type": "stream",
     "text": [
      "[nltk_data] Downloading package averaged_perceptron_tagger to\n",
      "[nltk_data]     C:\\Users\\wky32768\\AppData\\Roaming\\nltk_data...\n",
      "[nltk_data]   Package averaged_perceptron_tagger is already up-to-\n",
      "[nltk_data]       date!\n"
     ]
    },
    {
     "name": "stdout",
     "output_type": "stream",
     "text": [
      "cat\n",
      "True\n",
      "False\n",
      "False\n"
     ]
    }
   ],
   "source": [
    "from transformers import ViltProcessor, ViltForQuestionAnswering\n",
    "import requests\n",
    "from PIL import Image\n",
    "import torch\n",
    "import nltk\n",
    "from nltk.tokenize import word_tokenize\n",
    "nltk.download('averaged_perceptron_tagger')\n",
    "import os\n",
    "import json\n",
    "\n",
    "\n",
    "# preload: load the model and processor\n",
    "def preload(model_path, device):\n",
    "    processor = ViltProcessor.from_pretrained(model_path)\n",
    "    model = ViltForQuestionAnswering.from_pretrained(model_path)\n",
    "    model.to(device)\n",
    "    return processor, model\n",
    "\n",
    "# IsThereExists: return \"yes\" or \"no\" if the label exists in the image\n",
    "def IsThereExists(model, image, label):\n",
    "    text = \"Is there a \" + label + \" in the image?\"\n",
    "    encoding = processor(image, text, return_tensors=\"pt\")\n",
    "    outputs = model(**encoding)\n",
    "    logits = outputs.logits\n",
    "    idx = logits.argmax(-1).item()\n",
    "    return model.config.id2label[idx]\n",
    "\n",
    "# IsRemoved: return True if the label is removed from the image\n",
    "def IsRemoved(model, label, image_ori, image_edited):\n",
    "    back1 = IsThereExists(model, image_ori, label)\n",
    "    back2 = IsThereExists(model, image_edited, label)\n",
    "    if back1 == \"yes\" and back2 == \"no\":\n",
    "        return True\n",
    "    else:\n",
    "        return False\n",
    "\n",
    "# spliting wordsand choose one noun from the text\n",
    "# using nltk library\n",
    "def choose_noun(text):\n",
    "    words = word_tokenize(text)\n",
    "    pos = nltk.pos_tag(words)\n",
    "    nouns = [word for word, pos in pos if (pos == 'NN' or pos == 'NNP' or pos == 'NNS' or pos == 'NNPS')]\n",
    "    return nouns[0]\n",
    "\n",
    "# remove test for COCO_val (2017) dataset\n",
    "def remove_test_coco():\n",
    "    if os.path.exists('autodl-pub/COCO2017'):\n",
    "        print('COCO_val (2017) dataset found')\n",
    "\n",
    "    # saving captions_val2017.json to a variable\n",
    "    captions_val2017 = json.load(open('../autodl-pub/COCO2017/annotations/captions_val2017.json'))\n",
    "\n",
    "    # iterate every image in the COCO_val (2017) dataset\n",
    "    for img in os.listdir('../autodl-pub/COCO2017/val2017'):\n",
    "        # deleting front 0s to get the image id\n",
    "        img_id = img.split('.')[0].lstrip('0')\n",
    "\n",
    "        # getting the caption of the image\n",
    "        caption = captions_val2017['annotations'][int(img_id)]['caption']\n",
    "        noun = choose_noun(caption)\n",
    "        # saving the result to a list\n",
    "        result.append = IsRemoved(model, label = noun, image_ori = Image.open('../autodl-pub/COCO2017/val2017/' + img), image_edited = Image.open('../autodl-pub/(我是edit结果文件夹)/' + img))\n",
    "\n",
    "\n",
    "device = \"cuda\" if torch.cuda.is_available() else \"cpu\"\n",
    "model_path = \"vilt-b32-finetuned-vqa\"\n",
    "processor, model = preload(model_path, device)\n",
    "\n",
    "result = choose_noun(\"a cat is in the image\")\n",
    "print(result)\n",
    "\n",
    "result1 = IsRemoved(model, label = \"cat\", image_ori = Image.open(\"cat.jpg\"), image_edited = Image.open(\"nocat.jpg\"))\n",
    "result2 = IsRemoved(model, label = \"cat\", image_ori = Image.open(\"cat.jpg\"), image_edited = Image.open(\"cat.jpg\"))\n",
    "result3 = IsRemoved(model, label = \"cat\", image_ori = Image.open(\"nocat.jpg\"), image_edited = Image.open(\"nocat.jpg\"))\n",
    "print(result1)\n",
    "print(result2)\n",
    "print(result3)"
   ]
  }
 ],
 "metadata": {
  "kernelspec": {
   "display_name": "Python 3 (ipykernel)",
   "language": "python",
   "name": "python3"
  },
  "language_info": {
   "codemirror_mode": {
    "name": "ipython",
    "version": 3
   },
   "file_extension": ".py",
   "mimetype": "text/x-python",
   "name": "python",
   "nbconvert_exporter": "python",
   "pygments_lexer": "ipython3",
   "version": "3.8.10"
  },
  "vscode": {
   "interpreter": {
    "hash": "a6a67429f0ee6d9c23c170159a6af90d763c95e72ecb6a8a1e6197aa5b1b2758"
   }
  }
 },
 "nbformat": 4,
 "nbformat_minor": 4
}
